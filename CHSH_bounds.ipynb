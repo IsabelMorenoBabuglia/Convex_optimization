{
 "cells": [
  {
   "cell_type": "code",
   "execution_count": 3,
   "id": "dadd45a4-cbea-4595-8c57-ec9ae84edde9",
   "metadata": {},
   "outputs": [],
   "source": [
    "import cvxpy as cp\n",
    "import numpy as np"
   ]
  },
  {
   "cell_type": "code",
   "execution_count": 57,
   "id": "586c4a0e-235a-4a40-9e75-6ba7a3ea9e17",
   "metadata": {
    "tags": []
   },
   "outputs": [
    {
     "name": "stdout",
     "output_type": "stream",
     "text": [
      "The optimal value of the direct problem is 2.8284271229966897\n",
      "A solution G is\n",
      "[[ 1.00000000e+00  8.04219755e-16  7.07106781e-01  7.07106781e-01]\n",
      " [ 8.04219755e-16  1.00000000e+00  7.07106781e-01 -7.07106781e-01]\n",
      " [ 7.07106781e-01  7.07106781e-01  1.00000000e+00 -1.15143033e-15]\n",
      " [ 7.07106781e-01 -7.07106781e-01 -1.15143033e-15  1.00000000e+00]]\n",
      "\n",
      "The optimal value of the dual problem is 2.828427124616022\n",
      "A solution L is\n",
      "[[0.70710678 0.         0.         0.        ]\n",
      " [0.         0.70710678 0.         0.        ]\n",
      " [0.         0.         0.70710678 0.        ]\n",
      " [0.         0.         0.         0.70710678]]\n",
      "\n",
      "The theoretical bound is 2.8284271247461903\n"
     ]
    }
   ],
   "source": [
    "#CHSH inequality (2 measurements with outputs 1,-1)\n",
    "#Direct problem\n",
    "H=np.array([[1,1],[1,-1]])\n",
    "Z=np.zeros((2,2))\n",
    "W=np.block([[Z,H],[H,Z]])\n",
    "g01=cp.Variable()\n",
    "g02=cp.Variable()\n",
    "g03=cp.Variable()\n",
    "g12=cp.Variable()\n",
    "g13=cp.Variable()\n",
    "g23=cp.Variable()\n",
    "G=cp.bmat([[1,g01,g02,g03],\n",
    "            [g01,1,g12,g13],\n",
    "            [g02,g12,1,g23],\n",
    "            [g03,g13,g23,1]])\n",
    "dirprob=cp.Problem(cp.Maximize(1/2*cp.trace(W@G)),[G>>0])\n",
    "dirprob.solve()\n",
    "print(\"The optimal value of the direct problem is\", dirprob.value)\n",
    "print(\"A solution G is\")\n",
    "print(G.value)\n",
    "print()\n",
    "#Dual problem\n",
    "lam1=cp.Variable()\n",
    "lam2=cp.Variable()\n",
    "lam3=cp.Variable()\n",
    "lam4=cp.Variable()\n",
    "L=cp.bmat(np.diag((lam1,lam2,lam3,lam4)))\n",
    "C=cp.bmat(L+(-1/2)*W)\n",
    "dualprob=cp.Problem(cp.Minimize(cp.trace(L)),[C>>0])\n",
    "dualprob.solve()\n",
    "print(\"The optimal value of the dual problem is\", dualprob.value)\n",
    "print(\"A solution L is\")\n",
    "print(L.value)\n",
    "print()\n",
    "print(\"The theoretical quantum bound is\", 2*np.sqrt(2))"
   ]
  },
  {
   "cell_type": "code",
   "execution_count": 63,
   "id": "f0b08d5f-6d5f-42c2-82ca-0bf013f7679c",
   "metadata": {
    "tags": []
   },
   "outputs": [
    {
     "name": "stdout",
     "output_type": "stream",
     "text": [
      "The optimal value of the direct problem is 5.196152427563775\n",
      "A solution G is\n",
      "[[ 1.00000000e+00  4.99999996e-01 -4.99999996e-01  8.66025405e-01\n",
      "  -3.79572027e-16 -8.66025405e-01]\n",
      " [ 4.99999996e-01  1.00000000e+00  4.99999996e-01  8.66025405e-01\n",
      "   8.66025405e-01  6.11311728e-15]\n",
      " [-4.99999996e-01  4.99999996e-01  1.00000000e+00  5.70550364e-15\n",
      "   8.66025405e-01  8.66025405e-01]\n",
      " [ 8.66025405e-01  8.66025405e-01  5.70550364e-15  1.00000000e+00\n",
      "   4.99999996e-01 -4.99999996e-01]\n",
      " [-3.79572027e-16  8.66025405e-01  8.66025405e-01  4.99999996e-01\n",
      "   1.00000000e+00  4.99999996e-01]\n",
      " [-8.66025405e-01  6.11311728e-15  8.66025405e-01 -4.99999996e-01\n",
      "   4.99999996e-01  1.00000000e+00]]\n",
      "\n",
      "The optimal value of the dual problem is 5.196152856924317\n",
      "A solution L is\n",
      "[[0.86602548 0.         0.         0.         0.         0.        ]\n",
      " [0.         0.86602548 0.         0.         0.         0.        ]\n",
      " [0.         0.         0.86602548 0.         0.         0.        ]\n",
      " [0.         0.         0.         0.86602548 0.         0.        ]\n",
      " [0.         0.         0.         0.         0.86602548 0.        ]\n",
      " [0.         0.         0.         0.         0.         0.86602548]]\n",
      "\n",
      "The theoretical quantum bound is 5.196152422706632\n"
     ]
    }
   ],
   "source": [
    "#Chained CHSH inequalities for n measurements with outputs 1,-1\n",
    "n=3\n",
    "#Direct problem\n",
    "Z=np.zeros((n,n))\n",
    "B=np.copy(Z)\n",
    "B[0][0]=1\n",
    "B[n-1][0]=-1\n",
    "for i in range(1,n):\n",
    "    B[i-1][i]=1\n",
    "    B[i][i]=1\n",
    "W=np.block([[Z,B.T],[B,Z]])\n",
    "G=cp.Variable((2*n,2*n), symmetric=True)\n",
    "dirprob=cp.Problem(cp.Maximize(1/2*cp.trace(W@G)),[G>>0]+[G[i][i]==1 for i in range(2*n)])\n",
    "dirprob.solve()\n",
    "print(\"The optimal value of the direct problem is\", dirprob.value)\n",
    "print(\"A solution G is\")\n",
    "print(G.value)\n",
    "print()\n",
    "#Dual problem\n",
    "lams=cp.Variable(2*n)\n",
    "L=cp.diag(lams)\n",
    "C=cp.bmat(L+(-1/2)*W)\n",
    "dualprob=cp.Problem(cp.Minimize(cp.trace(L)),[C>>0])\n",
    "dualprob.solve()\n",
    "print(\"The optimal value of the dual problem is\", dualprob.value)\n",
    "print(\"A solution L is\")\n",
    "print(L.value)\n",
    "print()\n",
    "#Theoretical bound\n",
    "bound=2*n*np.cos(np.pi/(2*n))\n",
    "print(\"The theoretical quantum bound is\", bound)"
   ]
  }
 ],
 "metadata": {
  "kernelspec": {
   "display_name": "Python 3 (ipykernel)",
   "language": "python",
   "name": "python3"
  },
  "language_info": {
   "codemirror_mode": {
    "name": "ipython",
    "version": 3
   },
   "file_extension": ".py",
   "mimetype": "text/x-python",
   "name": "python",
   "nbconvert_exporter": "python",
   "pygments_lexer": "ipython3",
   "version": "3.11.7"
  }
 },
 "nbformat": 4,
 "nbformat_minor": 5
}
